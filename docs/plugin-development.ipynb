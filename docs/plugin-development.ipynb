{
 "cells": [
  {
   "metadata": {},
   "cell_type": "markdown",
   "source": [
    "# Realloc Plugin Development Guide\n",
    "\n",
    "## Overview\n",
    "Realloc's plugin system allows you to create custom exporters for rebalancing data. This guide walks you through creating, testing, and distributing a realloc export plugin.\n",
    "\n",
    "## Quick Start\n",
    "\n",
    "### 1. Set Up Your Project\n",
    "Create a new project with this structure:"
   ],
   "id": "ba1c8cf2136d264"
  },
  {
   "metadata": {},
   "cell_type": "markdown",
   "source": "text realloc-your-plugin/ ├── pyproject.toml ├── src/ │ └── realloc_your_plugin/ │ ├── **init**.py │ └── exporter.py ├── tests/ │ └── test_exporter.py └── README.md\n",
   "id": "2b6f3f5753052e53"
  },
  {
   "metadata": {},
   "cell_type": "markdown",
   "source": [
    "### 2. Configure Project Files\n",
    "`pyproject.toml`:"
   ],
   "id": "8be5058885cdbf3e"
  },
  {
   "metadata": {},
   "cell_type": "code",
   "outputs": [],
   "execution_count": null,
   "source": [
    "[project]\n",
    "name = \"realloc-your-plugin\"\n",
    "version = \"0.1.0\"\n",
    "description = \"Your realloc exporter plugin\"\n",
    "dependencies = [\n",
    "    \"realloc\"\n",
    "]\n",
    "\n",
    "[project.entry-points.\"realloc.plugins\"]\n",
    "your_plugin = \"realloc_your_plugin.exporter:YourExporter\""
   ],
   "id": "ed2c8fcab268538d"
  },
  {
   "metadata": {},
   "cell_type": "markdown",
   "source": [
    "### 3. Implement Your Exporter\n",
    "\n",
    "In `src/realloc_your_plugin/exporter.py`:"
   ],
   "id": "e5ae70dc1aae655f"
  },
  {
   "metadata": {},
   "cell_type": "code",
   "outputs": [],
   "execution_count": null,
   "source": [
    "from realloc.plugins.base import ExportPlugin\n",
    "\n",
    "class YourExporter(ExportPlugin):\n",
    "    def export(self, trades: dict, output_path: str) -> None:\n",
    "        \"\"\"\n",
    "        Export the rebalancing trades data to the specified output path.\n",
    "\n",
    "        Args:\n",
    "            trades: Dictionary containing the rebalancing trades data\n",
    "            output_path: Path where the exported data should be saved\n",
    "        \"\"\"\n",
    "        # Your export logic here\n",
    "        pass"
   ],
   "id": "6010a2046510db89"
  },
  {
   "metadata": {},
   "cell_type": "markdown",
   "source": [
    "## Plugin Interface Reference\n",
    "\n",
    "### ExportPlugin Base Class\n",
    "Your plugin must inherit from `ExportPlugin` and implement the `export` metho"
   ],
   "id": "23dedeeb6d95021f"
  },
  {
   "metadata": {},
   "cell_type": "code",
   "outputs": [],
   "execution_count": null,
   "source": [
    "def export(self, trades: dict, output_path: str) -> None:\n",
    "    \"\"\"\n",
    "    Args:\n",
    "        trades: Dictionary containing the rebalancing trades\n",
    "        output_path: Path where the exported data should be saved\n",
    "    \"\"\""
   ],
   "id": "3049264f7feae409"
  },
  {
   "metadata": {},
   "cell_type": "markdown",
   "source": [
    "### Entry Points\n",
    "Plugins are discovered through the `realloc.plugins` entry point group. The entry point name is what users will use with the `--exporter` flag in the CLI.\n",
    "\n",
    "## Testing Your Plugin\n",
    "\n",
    "Create tests in `tests/test_exporter.py`:"
   ],
   "id": "1f92c686e3168e29"
  },
  {
   "metadata": {},
   "cell_type": "code",
   "outputs": [],
   "execution_count": null,
   "source": [
    "def test_your_exporter(tmp_path):\n",
    "    exporter = YourExporter()\n",
    "    trades = {\n",
    "        \"account1\": {\n",
    "            \"buys\": {\"AAPL\": 5},\n",
    "            \"sells\": {\"GOOG\": 2}\n",
    "        }\n",
    "    }\n",
    "    output_path = tmp_path / \"output.txt\"\n",
    "    exporter.export(trades, str(output_path))\n",
    "    assert output_path.exists()"
   ],
   "id": "5e4f65b11148dc76"
  },
  {
   "metadata": {},
   "cell_type": "markdown",
   "source": [
    "## Using Your Plugin\n",
    "\n",
    "### Local Development\n",
    "Install your plugin in development mode:"
   ],
   "id": "5a0237aa32e2bb1e"
  },
  {
   "metadata": {},
   "cell_type": "code",
   "outputs": [],
   "execution_count": null,
   "source": "pip",
   "id": "1c42ef21c7bed6de"
  },
  {
   "metadata": {},
   "cell_type": "markdown",
   "source": [
    "### Usage\n",
    "Once installed, use your plugin with"
   ],
   "id": "183a7b09ed3d58c7"
  },
  {
   "metadata": {},
   "cell_type": "code",
   "outputs": [],
   "execution_count": null,
   "source": "rebalance-cli --exporter your_plugin input.json",
   "id": "ef4522565d06d43c"
  },
  {
   "metadata": {},
   "cell_type": "markdown",
   "source": [
    "## Best Practices\n",
    "\n",
    "1. **Plugin Naming**\n",
    "   - Use descriptive names that indicate the export format\n",
    "   - Prefix package with `realloc-` (e.g., `realloc-csvplus`)\n",
    "   - Use underscores in package/module names (e.g., `realloc_csvplus`)\n",
    "\n",
    "2. **Error Handling**\n",
    "   - Handle file I/O errors gracefully\n",
    "   - Provide meaningful error messages\n",
    "   - Validate input data before processing\n",
    "\n",
    "3. **Documentation**\n",
    "   - Document the format of your export\n",
    "   - Include example usage in your README\n",
    "   - Add type hints to your methods\n",
    "\n",
    "## Common Issues and Solutions\n",
    "\n",
    "1. **Plugin Not Found**\n",
    "   - Verify your entry point name matches the CLI argument\n",
    "   - Check that your package is installed in the correct environment\n",
    "   - Ensure your `pyproject.toml` entry point is correct\n",
    "\n",
    "2. **Import Errors**\n",
    "   - Make sure realloc is installed\n",
    "   - Check your package structure matches your entry point\n",
    "\n",
    "3. **File Permission Issues**\n",
    "   - Handle file permission errors gracefully\n",
    "   - Document any special requirements for output paths\n",
    "\n",
    "## Distribution\n",
    "\n",
    "1. Create a GitHub repository:"
   ],
   "id": "db49f71aa17aae50"
  },
  {
   "metadata": {},
   "cell_type": "code",
   "outputs": [],
   "execution_count": null,
   "source": [
    "git init\n",
    "git add .\n",
    "git commit -m \"Initial plugin implementation\"\n",
    "git remote add origin https://github.com/yourusername/realloc-your-plugin.git\n",
    "git push -u origin main"
   ],
   "id": "5b77043a326a0eb1"
  },
  {
   "metadata": {},
   "cell_type": "markdown",
   "source": "2. Publish to PyPI:",
   "id": "6ace59306cb239b5"
  },
  {
   "metadata": {},
   "cell_type": "code",
   "outputs": [],
   "execution_count": null,
   "source": [
    "python -m build\n",
    "python -m twine upload dist/*"
   ],
   "id": "ba5e88acea2fdc38"
  },
  {
   "metadata": {},
   "cell_type": "markdown",
   "source": [
    "## Example Plugins\n",
    "\n",
    "You can look at these plugins for reference:\n",
    "- Built-in CSV exporter in realloc's source code\n",
    "- [realloc-csvplus](https://github.com/yourusername/realloc-csvplus) - Enhanced CSV export with metadata"
   ],
   "id": "c2ea0717b59e6212"
  }
 ],
 "metadata": {
  "kernelspec": {
   "display_name": "Python 3",
   "language": "python",
   "name": "python3"
  },
  "language_info": {
   "codemirror_mode": {
    "name": "ipython",
    "version": 2
   },
   "file_extension": ".py",
   "mimetype": "text/x-python",
   "name": "python",
   "nbconvert_exporter": "python",
   "pygments_lexer": "ipython2",
   "version": "2.7.6"
  }
 },
 "nbformat": 4,
 "nbformat_minor": 5
}
