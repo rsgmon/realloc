{
 "cells": [
  {
   "cell_type": "code",
   "execution_count": null,
   "id": "initial_id",
   "metadata": {
    "collapsed": true
   },
   "outputs": [],
   "source": [
    "# Basic Rebalance Example\n",
    "from realloc import Account, PortfolioModel, PortfolioAllocator\n",
    "\n",
    "# Define accounts\n",
    "accounts = [\n",
    "    Account(\"IRA\", \"A1\", 1000, {\"AAPL\": 5}, {}),\n",
    "    Account(\"Taxable\", \"A2\", 2000, {\"GOOG\": 3}, {})\n",
    "]\n",
    "\n",
    "# Define target model\n",
    "model = PortfolioModel(\"Balanced\", {\"AAPL\": 0.5, \"GOOG\": 0.5})\n",
    "\n",
    "# Define prices\n",
    "prices = {\"AAPL\": 100, \"GOOG\": 200}\n",
    "\n",
    "# Create allocator\n",
    "allocator = PortfolioAllocator(accounts, model, prices)\n",
    "\n",
    "# Run rebalance\n",
    "portfolio_trades = allocator.rebalance()\n",
    "\n",
    "# Show planned portfolio-level trades\n",
    "print(\"Planned Portfolio Trades:\")\n",
    "print(portfolio_trades)\n",
    "\n",
    "# Show resulting cash and account holdings\n",
    "print(\"\\nCash Matrix After Rebalance:\")\n",
    "print(allocator.get_cash_matrix())\n",
    "\n",
    "print(\"\\nAccount Positions After Rebalance:\")\n",
    "print(allocator.get_account_positions())\n"
   ]
  }
 ],
 "metadata": {
  "kernelspec": {
   "display_name": "Python 3",
   "language": "python",
   "name": "python3"
  },
  "language_info": {
   "codemirror_mode": {
    "name": "ipython",
    "version": 2
   },
   "file_extension": ".py",
   "mimetype": "text/x-python",
   "name": "python",
   "nbconvert_exporter": "python",
   "pygments_lexer": "ipython2",
   "version": "2.7.6"
  }
 },
 "nbformat": 4,
 "nbformat_minor": 5
}
