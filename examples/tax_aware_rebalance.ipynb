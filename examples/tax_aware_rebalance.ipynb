{
 "cells": [
  {
   "cell_type": "code",
   "execution_count": null,
   "id": "initial_id",
   "metadata": {
    "collapsed": true
   },
   "outputs": [],
   "source": [
    "# Tax-Aware Rebalance Example\n",
    "from core import Account, PortfolioModel, PortfolioAllocator\n",
    "from core.selectors import TaxAwareSelector\n",
    "\n",
    "# Define accounts (one taxable, one tax-deferred)\n",
    "accounts = [\n",
    "    Account(\"IRA\", \"A1\", 1000, {\"AAPL\": 10, \"GOOG\": 5}, {}),\n",
    "    Account(\"Taxable\", \"A2\", 2000, {\"AAPL\": 2, \"MSFT\": 3}, {})\n",
    "]\n",
    "\n",
    "# Define target portfolio model\n",
    "model = PortfolioModel(\n",
    "    \"Tax-Aware Growth\",\n",
    "    {\n",
    "        \"AAPL\": 0.5,\n",
    "        \"GOOG\": 0.3,\n",
    "        \"MSFT\": 0.2\n",
    "    }\n",
    ")\n",
    "\n",
    "# Define prices\n",
    "prices = {\n",
    "    \"AAPL\": 100,\n",
    "    \"GOOG\": 200,\n",
    "    \"MSFT\": 50\n",
    "}\n",
    "\n",
    "# Create tax-aware selector\n",
    "selector = TaxAwareSelector(tax_deferred_accounts=[\"A1\"])\n",
    "\n",
    "# Create allocator with tax-aware selector\n",
    "allocator = PortfolioAllocator(accounts, model, prices, selector=selector)\n",
    "\n",
    "# Run rebalance\n",
    "portfolio_trades = allocator.rebalance()\n",
    "\n",
    "# Output planned trades\n",
    "print(\"Planned Portfolio Trades (Tax-Aware):\")\n",
    "print(portfolio_trades)\n",
    "\n",
    "# Output updated cash and positions\n",
    "print(\"\\nCash Matrix After Rebalance (Tax-Aware):\")\n",
    "print(allocator.get_cash_matrix())\n",
    "\n",
    "print(\"\\nAccount Positions After Rebalance (Tax-Aware):\")\n",
    "print(allocator.get_account_positions())\n"
   ]
  },
  {
   "metadata": {},
   "cell_type": "markdown",
   "source": [
    "🧠 Why this matters:\n",
    "Taxable accounts usually want to defer capital gains, while tax-deferred accounts like IRAs don't have that concern. This rebalancer intelligently selects where to sell from, reducing investor tax burden."
   ],
   "id": "31246c79683154ba"
  }
 ],
 "metadata": {
  "kernelspec": {
   "display_name": "Python 3",
   "language": "python",
   "name": "python3"
  },
  "language_info": {
   "codemirror_mode": {
    "name": "ipython",
    "version": 2
   },
   "file_extension": ".py",
   "mimetype": "text/x-python",
   "name": "python",
   "nbconvert_exporter": "python",
   "pygments_lexer": "ipython2",
   "version": "2.7.6"
  }
 },
 "nbformat": 4,
 "nbformat_minor": 5
}
