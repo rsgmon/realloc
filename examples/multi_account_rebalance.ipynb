{
 "cells": [
  {
   "cell_type": "code",
   "execution_count": null,
   "id": "initial_id",
   "metadata": {
    "collapsed": true
   },
   "outputs": [],
   "source": [
    "# Multi-Account Rebalance Example\n",
    "from core import Account, PortfolioModel, PortfolioAllocator\n",
    "\n",
    "# Define multiple accounts\n",
    "accounts = [\n",
    "    Account(\"IRA\", \"A1\", 500, {\"AAPL\": 3, \"MSFT\": 1}, {}),\n",
    "    Account(\"401K\", \"A2\", 1000, {\"GOOG\": 2}, {}),\n",
    "    Account(\"Taxable\", \"A3\", 1500, {\"AAPL\": 1, \"GOOG\": 1, \"MSFT\": 1}, {})\n",
    "]\n",
    "\n",
    "# Define portfolio model\n",
    "model = PortfolioModel(\n",
    "    \"Growth Model\",\n",
    "    {\n",
    "        \"AAPL\": 0.4,\n",
    "        \"GOOG\": 0.4,\n",
    "        \"MSFT\": 0.2\n",
    "    }\n",
    ")\n",
    "\n",
    "# Define prices\n",
    "prices = {\n",
    "    \"AAPL\": 100,\n",
    "    \"GOOG\": 200,\n",
    "    \"MSFT\": 50\n",
    "}\n",
    "\n",
    "# Create allocator\n",
    "allocator = PortfolioAllocator(accounts, model, prices)\n",
    "\n",
    "# Run rebalance\n",
    "portfolio_trades = allocator.rebalance()\n",
    "\n",
    "# Output planned trades\n",
    "print(\"Planned Portfolio Trades:\")\n",
    "print(portfolio_trades)\n",
    "\n",
    "# Output updated cash and positions\n",
    "print(\"\\nCash Matrix After Rebalance:\")\n",
    "print(allocator.get_cash_matrix())\n",
    "\n",
    "print(\"\\nAccount Positions After Rebalance:\")\n",
    "print(allocator.get_account_positions())\n"
   ]
  }
 ],
 "metadata": {
  "kernelspec": {
   "display_name": "Python 3",
   "language": "python",
   "name": "python3"
  },
  "language_info": {
   "codemirror_mode": {
    "name": "ipython",
    "version": 2
   },
   "file_extension": ".py",
   "mimetype": "text/x-python",
   "name": "python",
   "nbconvert_exporter": "python",
   "pygments_lexer": "ipython2",
   "version": "2.7.6"
  }
 },
 "nbformat": 4,
 "nbformat_minor": 5
}
